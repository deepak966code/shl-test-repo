{
 "cells": [
  {
   "cell_type": "code",
   "execution_count": 2,
   "id": "dc0d7dfb-9f60-473f-af4f-b56f26a0b9be",
   "metadata": {},
   "outputs": [],
   "source": [
    "import requests\n",
    "from bs4 import BeautifulSoup\n",
    "import pandas as pd\n",
    "from sentence_transformers import SentenceTransformer, util\n",
    "import faiss\n",
    "import re\n"
   ]
  },
  {
   "cell_type": "code",
   "execution_count": null,
   "id": "5da17b04-84eb-44b2-9004-b25c5da92c4b",
   "metadata": {},
   "outputs": [],
   "source": [
    " page.click('#Form_FilteringForm + #Form_FilteringForm_job_family_Holder + .middleColumn .choices is-focused .choices__inner')\n",
    "    \n",
    "    # Select \"Customer Service\"\n",
    "    page.click('div.choices__list--dropdown div.choices__item', has_text=\"Safety\")\n"
   ]
  },
  {
   "cell_type": "code",
   "execution_count": null,
   "id": "7e417839-0f4a-44ae-875d-ce83d6966060",
   "metadata": {},
   "outputs": [],
   "source": []
  }
 ],
 "metadata": {
  "kernelspec": {
   "display_name": "Python 3 (ipykernel)",
   "language": "python",
   "name": "python3"
  },
  "language_info": {
   "codemirror_mode": {
    "name": "ipython",
    "version": 3
   },
   "file_extension": ".py",
   "mimetype": "text/x-python",
   "name": "python",
   "nbconvert_exporter": "python",
   "pygments_lexer": "ipython3",
   "version": "3.10.16"
  }
 },
 "nbformat": 4,
 "nbformat_minor": 5
}
